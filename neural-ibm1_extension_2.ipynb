{
 "cells": [
  {
   "cell_type": "markdown",
   "metadata": {},
   "source": [
    "# Neural IBM1\n",
    "\n",
    "NLP2 2016/2017 Project 3"
   ]
  },
  {
   "cell_type": "code",
   "execution_count": 2,
   "metadata": {
    "collapsed": false
   },
   "outputs": [],
   "source": [
    "# first run a few imports:\n",
    "%load_ext autoreload\n",
    "%autoreload 2\n",
    "import tensorflow as tf\n",
    "import numpy as np\n",
    "from pprint import pprint\n",
    "import pickle\n",
    "\n",
    "%matplotlib inline\n",
    "\n",
    "import matplotlib\n",
    "import matplotlib.pyplot as plt\n"
   ]
  },
  {
   "cell_type": "markdown",
   "metadata": {},
   "source": [
    "### Let's first load some data"
   ]
  },
  {
   "cell_type": "code",
   "execution_count": 3,
   "metadata": {
    "collapsed": true
   },
   "outputs": [],
   "source": [
    "# the paths to our training and validation data, English side\n",
    "train_e_path = '../../data/training/hansards.36.2.e.gz'\n",
    "train_f_path = '../../data/training/hansards.36.2.f.gz'\n",
    "dev_e_path = '../../data/validation/dev.e.gz'\n",
    "dev_f_path = '../../data/validation/dev.f.gz'\n",
    "dev_wa = '../../data/validation/dev.wa.nonullalign'"
   ]
  },
  {
   "cell_type": "code",
   "execution_count": 4,
   "metadata": {
    "collapsed": false,
    "scrolled": true
   },
   "outputs": [
    {
     "name": "stdout",
     "output_type": "stream",
     "text": [
      "(['36', 'th', 'Parliament', ',', '2', 'nd', 'Session'], ['36', 'e', 'Législature', ',', '2', 'ième', 'Session'])\n",
      "(['edited', 'HANSARD', '*', 'NUMBER', '1'], ['hansard', 'RÉVISÉ', '*', 'NUMÉRO', '1'])\n",
      "(['contents'], ['table', 'DES', 'MATIÈRES'])\n",
      "(['Tuesday', ',', 'October', '12', ',', '1999'], ['le', 'mardi', '12', 'octobre', '1999'])\n"
     ]
    }
   ],
   "source": [
    "# check utils.py if you want to see how smart_reader and bitext_reader work in detail\n",
    "from utils import smart_reader, bitext_reader\n",
    "\n",
    "    \n",
    "def bitext_reader_demo(src_path, trg_path):\n",
    "  \"\"\"Demo of the bitext reader.\"\"\"\n",
    " \n",
    "  # create a reader\n",
    "  src_reader = smart_reader(src_path)\n",
    "  trg_reader = smart_reader(trg_path)\n",
    "  bitext = bitext_reader(src_reader, trg_reader)\n",
    "\n",
    "  # to see that it really works, try this:\n",
    "  print(next(bitext))\n",
    "  print(next(bitext))\n",
    "  print(next(bitext))\n",
    "  print(next(bitext))  \n",
    "\n",
    "\n",
    "bitext_reader_demo(train_e_path, train_f_path)"
   ]
  },
  {
   "cell_type": "code",
   "execution_count": 5,
   "metadata": {
    "collapsed": false
   },
   "outputs": [
    {
     "name": "stdout",
     "output_type": "stream",
     "text": [
      "There are 178928 sentences with max_length = 30\n"
     ]
    }
   ],
   "source": [
    "# To see how many sentences are left if you filter by length, you can do this:\n",
    "\n",
    "def demo_number_filtered_sentence_pairs(src_path, trg_path):\n",
    "  src_reader = smart_reader(src_path)\n",
    "  trg_reader = smart_reader(trg_path)\n",
    "  max_length = 30\n",
    "  bitext = bitext_reader(src_reader, trg_reader, max_length=max_length)   \n",
    "  num_sentences = sum([1 for _ in bitext])\n",
    "  print(\"There are {} sentences with max_length = {}\".format(num_sentences, max_length))\n",
    "  \n",
    "  \n",
    "demo_number_filtered_sentence_pairs(train_e_path, train_f_path)"
   ]
  },
  {
   "cell_type": "markdown",
   "metadata": {},
   "source": [
    "### Now, let's create a vocabulary!\n",
    "\n",
    "We first define a class `Vocabulary` that helps us convert tokens (words) into numbers. This is useful later, because then we can e.g. index a word embedding table using the ID of a word."
   ]
  },
  {
   "cell_type": "code",
   "execution_count": 6,
   "metadata": {
    "collapsed": false
   },
   "outputs": [],
   "source": [
    "# check vocabulary.py to see how the Vocabulary class is defined\n",
    "from vocabulary import OrderedCounter, Vocabulary "
   ]
  },
  {
   "cell_type": "markdown",
   "metadata": {},
   "source": [
    "Now let's try out our Vocabulary class:"
   ]
  },
  {
   "cell_type": "code",
   "execution_count": 7,
   "metadata": {
    "collapsed": false
   },
   "outputs": [
    {
     "name": "stdout",
     "output_type": "stream",
     "text": [
      "Original vocabulary size: 36640\n",
      "Trimmed vocabulary size: 1005\n",
      "The index of \"<PAD>\" is: 0\n",
      "The index of \"<UNK>\" is: 1\n",
      "The index of \"the\" is: 5\n",
      "The token with index 0 is: <PAD>\n",
      "The token with index 1 is: <UNK>\n",
      "The token with index 2 is: <S>\n",
      "The token with index 3 is: </S>\n",
      "The token with index 4 is: <NULL>\n",
      "The token with index 5 is: the\n",
      "The token with index 6 is: .\n",
      "The token with index 7 is: ,\n",
      "The token with index 8 is: of\n",
      "The token with index 9 is: to\n",
      "The index of \"!@!_not_in_vocab_!@!\" is: 1\n"
     ]
    }
   ],
   "source": [
    "def vocabulary_demo():\n",
    "\n",
    "  # We used up a few lines in the previous example, so we set up\n",
    "  # our data generator again.\n",
    "  corpus = smart_reader(train_e_path)    \n",
    "\n",
    "  # Let's create a vocabulary given our (tokenized) corpus\n",
    "  vocabulary = Vocabulary(corpus=corpus)\n",
    "  print(\"Original vocabulary size: {}\".format(len(vocabulary)))\n",
    "\n",
    "  # Now we only keep the highest-frequency words\n",
    "  vocabulary_size=1000\n",
    "  vocabulary.trim(vocabulary_size)\n",
    "  print(\"Trimmed vocabulary size: {}\".format(len(vocabulary)))\n",
    "\n",
    "  # Now we can get word indexes using v.get_word_id():\n",
    "  for t in [\"<PAD>\", \"<UNK>\", \"the\"]:\n",
    "    print(\"The index of \\\"{}\\\" is: {}\".format(t, vocabulary.get_token_id(t)))\n",
    "\n",
    "  # And the inverse too, using v.i2t:\n",
    "  for i in range(10):\n",
    "    print(\"The token with index {} is: {}\".format(i, vocabulary.get_token(i)))\n",
    "\n",
    "  # Now let's try to get a word ID for a word not in the vocabulary\n",
    "  # we should get 1 (so, <UNK>)\n",
    "  for t in [\"!@!_not_in_vocab_!@!\"]:\n",
    "    print(\"The index of \\\"{}\\\" is: {}\".format(t, vocabulary.get_token_id(t)))\n",
    "    \n",
    "    \n",
    "vocabulary_demo()"
   ]
  },
  {
   "cell_type": "markdown",
   "metadata": {},
   "source": [
    "Now let's create the vocabularies that we use further on."
   ]
  },
  {
   "cell_type": "code",
   "execution_count": 8,
   "metadata": {
    "collapsed": false
   },
   "outputs": [
    {
     "name": "stdout",
     "output_type": "stream",
     "text": [
      "English vocabulary size: 1005\n",
      "French vocabulary size: 1005\n",
      "\n",
      "A few English words:\n",
      "others\n",
      "services\n",
      "power\n",
      "either\n",
      "did\n",
      "\n",
      "A few French words:\n",
      "réserves\n",
      "secteur\n",
      "déclare\n",
      "initiative\n",
      "13\n"
     ]
    }
   ],
   "source": [
    "# Using only 1000 words will result in many UNKs, but\n",
    "# it will make training a lot faster. \n",
    "# If you have a fast computer, a GPU, or a lot of time,\n",
    "# try with 10000 instead.\n",
    "max_tokens=1000\n",
    "\n",
    "corpus_e = smart_reader(train_e_path)    \n",
    "vocabulary_e = Vocabulary(corpus=corpus_e, max_tokens=max_tokens)\n",
    "pickle.dump(vocabulary_e, open(\"vocabulary_e.pkl\", mode=\"wb\"))\n",
    "print(\"English vocabulary size: {}\".format(len(vocabulary_e)))\n",
    "\n",
    "corpus_f = smart_reader(train_f_path)    \n",
    "vocabulary_f = Vocabulary(corpus=corpus_f, max_tokens=max_tokens)\n",
    "pickle.dump(vocabulary_f, open(\"vocabulary_f.pkl\", mode=\"wb\"))\n",
    "print(\"French vocabulary size: {}\".format(len(vocabulary_f)))\n",
    "print()\n",
    "\n",
    "\n",
    "def sample_words(vocabulary, n=5):\n",
    "  \"\"\"Print a few words from the vocabulary.\"\"\"\n",
    "  for _ in range(n):\n",
    "    token_id = np.random.randint(0, len(vocabulary) - 1)\n",
    "    print(vocabulary.get_token(token_id))\n",
    "\n",
    "\n",
    "print(\"A few English words:\")\n",
    "sample_words(vocabulary_e, n=5)\n",
    "print()\n",
    "\n",
    "print(\"A few French words:\")\n",
    "sample_words(vocabulary_f, n=5)"
   ]
  },
  {
   "cell_type": "markdown",
   "metadata": {
    "collapsed": true
   },
   "source": [
    "### Mini-batching\n",
    "\n",
    "With our vocabulary, we still need a method that converts a whole sentence to a sequence of IDs.\n",
    "And, to speed up training, we would like to get a so-called mini-batch at a time: multiple of such sequences together. So our function takes a corpus iterator and a vocabulary, and returns a mini-batch of shape [Batch, Time], where the first dimension indexes the sentences in the batch, and the second the time steps in each sentence. "
   ]
  },
  {
   "cell_type": "code",
   "execution_count": 9,
   "metadata": {
    "collapsed": false
   },
   "outputs": [],
   "source": [
    "from utils import iterate_minibatches, prepare_data"
   ]
  },
  {
   "cell_type": "markdown",
   "metadata": {},
   "source": [
    "Let's try it out!"
   ]
  },
  {
   "cell_type": "code",
   "execution_count": 10,
   "metadata": {
    "collapsed": false,
    "scrolled": true
   },
   "outputs": [
    {
     "name": "stdout",
     "output_type": "stream",
     "text": [
      "This is the batch of data that we will train on, as tokens:\n",
      "[(['36', 'th', 'Parliament', ',', '2', 'nd', 'Session'],\n",
      "  ['36', 'e', 'Législature', ',', '2', 'ième', 'Session']),\n",
      " (['edited', 'HANSARD', '*', 'NUMBER', '1'],\n",
      "  ['hansard', 'RÉVISÉ', '*', 'NUMÉRO', '1']),\n",
      " (['contents'], ['table', 'DES', 'MATIÈRES']),\n",
      " (['Tuesday', ',', 'October', '12', ',', '1999'],\n",
      "  ['le', 'mardi', '12', 'octobre', '1999'])]\n",
      "\n",
      "These are our inputs (i.e. words replaced by IDs):\n",
      "[[  4   1 745 325   7 262   1   1]\n",
      " [  4   1   1  67   1 238   0   0]\n",
      " [  4   1   0   0   0   0   0   0]\n",
      " [  4   1   7 813 882   7 297   0]]\n",
      "\n",
      "These are the outputs (the foreign sentences):\n",
      "[[  1   1   1   7 254   1   1]\n",
      " [  1   1  62   1 250   0   0]\n",
      " [  1 463   1   0   0   0   0]\n",
      " [  6   1   1 840 295   0   0]]\n",
      "\n",
      "This is the batch of data that we will train on, as tokens:\n",
      "[(['opening',\n",
      "   'OF',\n",
      "   'THE',\n",
      "   'SECOND',\n",
      "   'SESSION',\n",
      "   'OF',\n",
      "   'THE',\n",
      "   '36',\n",
      "   'TH',\n",
      "   'PARLIAMENT'],\n",
      "  ['ouverture',\n",
      "   'DE',\n",
      "   'LA',\n",
      "   'DEUXIÈME',\n",
      "   'SESSION',\n",
      "   'DE',\n",
      "   'LA',\n",
      "   '36E',\n",
      "   'LÉGISLATURE']),\n",
      " (['oaths', 'OF', 'OFFICE'], ['les', 'SERMENTS', 'De', 'OFFICE']),\n",
      " (['bill', 'C', '-', '1', '.'], ['projet', 'de', 'loi', 'C', '-', '1', '.']),\n",
      " (['introduction', 'and', 'first', 'reading'],\n",
      "  ['présentation', 'et', 'première', 'lecture'])]\n",
      "\n",
      "These are our inputs (i.e. words replaced by IDs):\n",
      "[[  4   1 488 800   1   1 488 800   1   1   1]\n",
      " [  4   1 488   1   0   0   0   0   0   0   0]\n",
      " [  4  63  99  20 238   6   0   0   0   0   0]\n",
      " [  4 931  10 125 385   0   0   0   0   0   0]]\n",
      "\n",
      "These are the outputs (the foreign sentences):\n",
      "[[  1 239 542   1   1 239 542   1   1]\n",
      " [  9   1   1   1   0   0   0   0   0]\n",
      " [ 40   5  34  94  14 250   8   0   0]\n",
      " [832  13 227 336   0   0   0   0   0]]\n",
      "\n"
     ]
    }
   ],
   "source": [
    "src_reader = smart_reader(train_e_path)\n",
    "trg_reader = smart_reader(train_f_path)\n",
    "bitext = bitext_reader(src_reader, trg_reader)\n",
    "\n",
    "\n",
    "for batch_id, batch in enumerate(iterate_minibatches(bitext, batch_size=4)):\n",
    "\n",
    "  print(\"This is the batch of data that we will train on, as tokens:\")\n",
    "  pprint(batch)\n",
    "  print()\n",
    "\n",
    "  x, y = prepare_data(batch, vocabulary_e, vocabulary_f)\n",
    "\n",
    "  print(\"These are our inputs (i.e. words replaced by IDs):\")\n",
    "  print(x)\n",
    "  print()\n",
    "  \n",
    "  print(\"These are the outputs (the foreign sentences):\")\n",
    "  print(y)\n",
    "  print()\n",
    "\n",
    "  if batch_id > 0:\n",
    "    break  # stop after the first batch, this is just a demonstration\n"
   ]
  },
  {
   "cell_type": "markdown",
   "metadata": {},
   "source": [
    "Now, notice the following:\n",
    "\n",
    "1. Every English sequence starts with a 4, the ID for < NULL \\>.\n",
    "2. The longest sequence in the batch contains no padding symbols. Any sequences shorter, however, will have padding zeros.\n",
    "\n",
    "With our input pipeline in place, now let's create a model."
   ]
  },
  {
   "cell_type": "markdown",
   "metadata": {},
   "source": [
    "### Building our model"
   ]
  },
  {
   "cell_type": "code",
   "execution_count": 11,
   "metadata": {
    "collapsed": false,
    "scrolled": false
   },
   "outputs": [],
   "source": [
    "# check neuralibm1.py for the Model code\n",
    "# from neuralibm1 import NeuralIBM1Model\n",
    "from neuralibm1_extension_2 import NeuralIBM1Model"
   ]
  },
  {
   "cell_type": "markdown",
   "metadata": {
    "collapsed": true
   },
   "source": [
    "### Training the model\n",
    "\n",
    "Now that we have a model, we need to train it. To do so we define a Trainer class that takes our model as an argument and trains it, keeping track of some important information.\n",
    "\n"
   ]
  },
  {
   "cell_type": "code",
   "execution_count": 12,
   "metadata": {
    "collapsed": false
   },
   "outputs": [],
   "source": [
    "# check neuralibm1trainer.py for the Trainer code\n",
    "from neuralibm1trainer import NeuralIBM1Trainer"
   ]
  },
  {
   "cell_type": "markdown",
   "metadata": {},
   "source": [
    "Now we instantiate a model and start training."
   ]
  },
  {
   "cell_type": "code",
   "execution_count": 14,
   "metadata": {
    "collapsed": false
   },
   "outputs": [
    {
     "name": "stdout",
     "output_type": "stream",
     "text": [
      "Training with B=4 max_length=30 lr=0.001 lr_decay=0.0\n",
      "Initializing variables..\n",
      "Training started..\n",
      "Shuffling training data\n",
      "Iter   100 loss 63.399155 accuracy 0.20 lr 0.001000\n",
      "Epoch 1 loss 70.723221 accuracy 0.18 val_aer 0.92 val_acc 0.19\n",
      "Model saved in file: D:/Roderick/Documents/Master/5 NLP2/project three/project_neuralibm/model.ckpt\n",
      "Shuffling training data\n",
      "Iter   100 loss 41.255028 accuracy 0.17 lr 0.001000\n",
      "Epoch 2 loss 67.667766 accuracy 0.17 val_aer 0.87 val_acc 0.19\n",
      "Model saved in file: D:/Roderick/Documents/Master/5 NLP2/project three/project_neuralibm/model.ckpt\n",
      "Shuffling training data\n",
      "Iter   100 loss 62.024918 accuracy 0.14 lr 0.001000\n",
      "Epoch 3 loss 62.850223 accuracy 0.18 val_aer 0.87 val_acc 0.19\n",
      "Model saved in file: D:/Roderick/Documents/Master/5 NLP2/project three/project_neuralibm/model.ckpt\n",
      "Shuffling training data\n",
      "Iter   100 loss 83.170395 accuracy 0.25 lr 0.001000\n",
      "Epoch 4 loss 61.678810 accuracy 0.19 val_aer 0.87 val_acc 0.19\n",
      "Model saved in file: D:/Roderick/Documents/Master/5 NLP2/project three/project_neuralibm/model.ckpt\n",
      "Shuffling training data\n",
      "Iter   100 loss 78.319649 accuracy 0.21 lr 0.001000\n",
      "Epoch 5 loss 61.587553 accuracy 0.18 val_aer 0.85 val_acc 0.19\n",
      "Model saved in file: D:/Roderick/Documents/Master/5 NLP2/project three/project_neuralibm/model.ckpt\n",
      "AER [0.9214285714285715, 0.8727490996398559, 0.8741721854304636, 0.8707015130674003, 0.8544973544973545]\n",
      "Loss [7072.322096824646, 6766.7765579223633, 6285.0223217010498, 6167.8809604644775, 6158.7553462982178]\n"
     ]
    },
    {
     "data": {
      "image/png": "[encoded data removed]",
      "text/plain": [
       "<matplotlib.figure.Figure at 0x24df4c34c88>"
      ]
     },
     "metadata": {},
     "output_type": "display_data"
    },
    {
     "data": {
      "image/png": "[encoded data removed]",
      "text/plain": [
       "<matplotlib.figure.Figure at 0x24d80603f98>"
      ]
     },
     "metadata": {},
     "output_type": "display_data"
    }
   ],
   "source": [
    "tf.reset_default_graph()\n",
    "\n",
    "with tf.Session() as sess:\n",
    "\n",
    "  # some hyper-parameters\n",
    "  # tweak them as you wish\n",
    "#   batch_size=128  # on CPU, use something much smaller e.g. 1-16\n",
    "  batch_size=4\n",
    "  max_length=30\n",
    "  lr = 0.001\n",
    "  lr_decay = 0.0  # set to 0.0 when using Adam optimizer (default)\n",
    "  emb_dim = 64\n",
    "  mlp_dim = 128\n",
    "  \n",
    "  # our model\n",
    "  model = NeuralIBM1Model(\n",
    "    x_vocabulary=vocabulary_e, y_vocabulary=vocabulary_f, \n",
    "    batch_size=batch_size, emb_dim=emb_dim, mlp_dim=mlp_dim, session=sess)\n",
    "  \n",
    "  # our trainer\n",
    "  trainer = NeuralIBM1Trainer(\n",
    "    model, train_e_path, train_f_path, \n",
    "    dev_e_path, dev_f_path, dev_wa,\n",
    "    num_epochs=5, batch_size=batch_size, \n",
    "    max_length=max_length, lr=lr, lr_decay=lr_decay, session=sess)\n",
    "\n",
    "  # now first TF needs to initialize all the variables\n",
    "  print(\"Initializing variables..\")\n",
    "  sess.run(tf.global_variables_initializer())\n",
    "\n",
    "  # now we can start training!\n",
    "  print(\"Training started..\")\n",
    "  trainer.train()\n"
   ]
  },
  {
   "cell_type": "code",
   "execution_count": null,
   "metadata": {
    "collapsed": false
   },
   "outputs": [],
   "source": [
    "plot_AER = [0.766109785202864, 0.7267759562841529, 0.7706521739130434, 0.8188976377952756, 0.8419689119170984]\n",
    "plot_Loss= [41346.684804975986, 12309.765393793583, 11828.69825476408, 11667.897045254707, 11614.337039470673]\n",
    "\n",
    "plt.figure()\n",
    "plt.title('AER')\n",
    "plt.plot(plot_AER)\n",
    "\n",
    "plt.figure()\n",
    "plt.title('Loss')\n",
    "plt.plot(plot_Loss)"
   ]
  },
  {
   "cell_type": "code",
   "execution_count": 13,
   "metadata": {
    "collapsed": false
   },
   "outputs": [
    {
     "name": "stdout",
     "output_type": "stream",
     "text": [
      "(?, ?, 1, ?)\n",
      "Training with B=4 max_length=30 lr=0.001 lr_decay=0.0\n",
      "Initializing variables..\n",
      "Training started..\n",
      "Shuffling training data\n",
      "Iter   100 loss 37.336826 accuracy 0.42 lr 0.001000\n",
      "Iter   200 loss 43.004364 accuracy 0.54 lr 0.001000\n",
      "Iter   300 loss 35.698086 accuracy 0.50 lr 0.001000\n",
      "Iter   400 loss 13.789736 accuracy 0.70 lr 0.001000\n",
      "Iter   500 loss 20.863899 accuracy 0.82 lr 0.001000\n",
      "Iter   600 loss 13.341043 accuracy 0.74 lr 0.001000\n",
      "Iter   700 loss 15.271908 accuracy 0.86 lr 0.001000\n",
      "Iter   800 loss 28.197117 accuracy 0.81 lr 0.001000\n",
      "Iter   900 loss 22.114882 accuracy 0.87 lr 0.001000\n",
      "Iter  1000 loss 13.091264 accuracy 0.87 lr 0.001000\n",
      "Iter  1100 loss 11.091002 accuracy 0.96 lr 0.001000\n",
      "Iter  1200 loss 8.288891 accuracy 0.92 lr 0.001000\n",
      "Iter  1300 loss 5.422206 accuracy 0.92 lr 0.001000\n",
      "Iter  1400 loss 4.643224 accuracy 1.00 lr 0.001000\n",
      "Iter  1500 loss 10.349890 accuracy 0.94 lr 0.001000\n",
      "Iter  1600 loss 4.152683 accuracy 0.93 lr 0.001000\n",
      "Iter  1700 loss 4.590614 accuracy 0.93 lr 0.001000\n",
      "Iter  1800 loss 5.649278 accuracy 0.90 lr 0.001000\n",
      "Iter  1900 loss 4.410575 accuracy 0.97 lr 0.001000\n",
      "Iter  2000 loss 6.679399 accuracy 0.94 lr 0.001000\n",
      "Iter  2100 loss 3.866320 accuracy 0.94 lr 0.001000\n",
      "Iter  2200 loss 2.559875 accuracy 0.96 lr 0.001000\n",
      "Iter  2300 loss 1.954602 accuracy 0.95 lr 0.001000\n",
      "Iter  2400 loss 2.354395 accuracy 0.96 lr 0.001000\n",
      "Iter  2500 loss 4.355288 accuracy 0.96 lr 0.001000\n",
      "Iter  2600 loss 2.880498 accuracy 0.78 lr 0.001000\n",
      "Iter  2700 loss 1.931291 accuracy 0.98 lr 0.001000\n",
      "Iter  2800 loss 4.031614 accuracy 0.94 lr 0.001000\n",
      "Iter  2900 loss 2.635961 accuracy 0.94 lr 0.001000\n",
      "Iter  3000 loss 4.597048 accuracy 0.94 lr 0.001000\n",
      "Iter  3100 loss 4.541165 accuracy 0.93 lr 0.001000\n",
      "Iter  3200 loss 5.148669 accuracy 0.94 lr 0.001000\n",
      "Iter  3300 loss 2.902678 accuracy 0.97 lr 0.001000\n",
      "Iter  3400 loss 5.408591 accuracy 0.96 lr 0.001000\n",
      "Iter  3500 loss 1.858322 accuracy 0.94 lr 0.001000\n",
      "Iter  3600 loss 2.887675 accuracy 0.93 lr 0.001000\n",
      "Iter  3700 loss 1.894715 accuracy 0.98 lr 0.001000\n",
      "Iter  3800 loss 3.353141 accuracy 0.94 lr 0.001000\n",
      "Iter  3900 loss 3.066081 accuracy 0.93 lr 0.001000\n",
      "Iter  4000 loss 2.836148 accuracy 0.91 lr 0.001000\n",
      "Iter  4100 loss 1.481586 accuracy 0.95 lr 0.001000\n",
      "Iter  4200 loss 3.580234 accuracy 0.94 lr 0.001000\n",
      "Iter  4300 loss 2.146219 accuracy 0.94 lr 0.001000\n",
      "Iter  4400 loss 2.104088 accuracy 0.93 lr 0.001000\n",
      "Iter  4500 loss 3.751174 accuracy 0.93 lr 0.001000\n",
      "Iter  4600 loss 1.556022 accuracy 0.98 lr 0.001000\n",
      "Iter  4700 loss 4.660485 accuracy 0.97 lr 0.001000\n",
      "Iter  4800 loss 2.065850 accuracy 0.95 lr 0.001000\n",
      "Iter  4900 loss 2.909004 accuracy 0.96 lr 0.001000\n",
      "Iter  5000 loss 1.403816 accuracy 0.88 lr 0.001000\n",
      "Epoch 1 loss 8.589050 accuracy 0.89 val_aer 0.74 val_acc 0.95\n",
      "Model saved in file: D:/Roderick/Documents/Master/5 NLP2/project three/project_neuralibm/model.ckpt\n",
      "Shuffling training data\n",
      "Iter   100 loss 1.124624 accuracy 0.98 lr 0.001000\n",
      "Iter   200 loss 2.812454 accuracy 0.89 lr 0.001000\n",
      "Iter   300 loss 1.945960 accuracy 0.95 lr 0.001000\n",
      "Iter   400 loss 2.535877 accuracy 0.93 lr 0.001000\n",
      "Iter   500 loss 2.461771 accuracy 0.96 lr 0.001000\n",
      "Iter   600 loss 3.908228 accuracy 0.96 lr 0.001000\n",
      "Iter   700 loss 2.867751 accuracy 0.93 lr 0.001000\n",
      "Iter   800 loss 1.960616 accuracy 0.93 lr 0.001000\n",
      "Iter   900 loss 3.037755 accuracy 0.97 lr 0.001000\n",
      "Iter  1000 loss 3.396717 accuracy 0.95 lr 0.001000\n",
      "Iter  1100 loss 1.462272 accuracy 0.91 lr 0.001000\n",
      "Iter  1200 loss 2.648902 accuracy 0.95 lr 0.001000\n",
      "Iter  1300 loss 3.093419 accuracy 0.96 lr 0.001000\n",
      "Iter  1400 loss 2.423626 accuracy 0.88 lr 0.001000\n",
      "Iter  1500 loss 1.725395 accuracy 0.97 lr 0.001000\n",
      "Iter  1600 loss 1.863153 accuracy 0.96 lr 0.001000\n",
      "Iter  1700 loss 1.561623 accuracy 0.98 lr 0.001000\n",
      "Iter  1800 loss 1.793330 accuracy 0.98 lr 0.001000\n",
      "Iter  1900 loss 2.764318 accuracy 0.93 lr 0.001000\n",
      "Iter  2000 loss 2.931399 accuracy 0.95 lr 0.001000\n",
      "Iter  2100 loss 1.902112 accuracy 0.98 lr 0.001000\n",
      "Iter  2200 loss 2.662389 accuracy 0.95 lr 0.001000\n",
      "Iter  2300 loss 1.283369 accuracy 0.93 lr 0.001000\n",
      "Iter  2400 loss 3.662875 accuracy 0.92 lr 0.001000\n",
      "Iter  2500 loss 1.445829 accuracy 0.94 lr 0.001000\n",
      "Iter  2600 loss 1.743718 accuracy 0.96 lr 0.001000\n",
      "Iter  2700 loss 4.032865 accuracy 0.96 lr 0.001000\n",
      "Iter  2800 loss 2.915865 accuracy 0.98 lr 0.001000\n",
      "Iter  2900 loss 2.376601 accuracy 0.94 lr 0.001000\n",
      "Iter  3000 loss 3.905719 accuracy 0.96 lr 0.001000\n",
      "Iter  3100 loss 3.718598 accuracy 0.91 lr 0.001000\n",
      "Iter  3200 loss 1.688727 accuracy 0.96 lr 0.001000\n",
      "Iter  3300 loss 3.547573 accuracy 0.97 lr 0.001000\n",
      "Iter  3400 loss 3.623657 accuracy 0.92 lr 0.001000\n",
      "Iter  3500 loss 4.078589 accuracy 0.94 lr 0.001000\n",
      "Iter  3600 loss 1.502578 accuracy 0.94 lr 0.001000\n",
      "Iter  3700 loss 2.236116 accuracy 0.95 lr 0.001000\n",
      "Iter  3800 loss 3.918339 accuracy 0.97 lr 0.001000\n",
      "Iter  3900 loss 2.323859 accuracy 0.96 lr 0.001000\n",
      "Iter  4000 loss 1.712749 accuracy 0.97 lr 0.001000\n",
      "Iter  4100 loss 1.305085 accuracy 0.95 lr 0.001000\n",
      "Iter  4200 loss 2.098556 accuracy 0.94 lr 0.001000\n",
      "Iter  4300 loss 3.797092 accuracy 0.95 lr 0.001000\n",
      "Iter  4400 loss 2.833274 accuracy 0.96 lr 0.001000\n",
      "Iter  4500 loss 2.714586 accuracy 0.97 lr 0.001000\n",
      "Iter  4600 loss 2.011941 accuracy 0.97 lr 0.001000\n",
      "Iter  4700 loss 2.485527 accuracy 0.96 lr 0.001000\n",
      "Iter  4800 loss 3.327876 accuracy 0.96 lr 0.001000\n",
      "Iter  4900 loss 2.212057 accuracy 0.96 lr 0.001000\n",
      "Iter  5000 loss 1.999068 accuracy 0.89 lr 0.001000\n",
      "Epoch 2 loss 2.453872 accuracy 0.95 val_aer 0.73 val_acc 0.95\n",
      "Model saved in file: D:/Roderick/Documents/Master/5 NLP2/project three/project_neuralibm/model.ckpt\n",
      "Shuffling training data\n",
      "Iter   100 loss 3.567917 accuracy 0.85 lr 0.001000\n",
      "Iter   200 loss 1.587622 accuracy 0.97 lr 0.001000\n",
      "Iter   300 loss 1.401519 accuracy 0.98 lr 0.001000\n",
      "Iter   400 loss 1.527575 accuracy 0.98 lr 0.001000\n",
      "Iter   500 loss 1.996244 accuracy 0.97 lr 0.001000\n",
      "Iter   600 loss 2.545094 accuracy 0.97 lr 0.001000\n",
      "Iter   700 loss 1.467768 accuracy 0.98 lr 0.001000\n",
      "Iter   800 loss 1.912512 accuracy 0.95 lr 0.001000\n",
      "Iter   900 loss 3.854835 accuracy 0.93 lr 0.001000\n",
      "Iter  1000 loss 2.148663 accuracy 0.96 lr 0.001000\n",
      "Iter  1100 loss 2.208252 accuracy 0.91 lr 0.001000\n",
      "Iter  1200 loss 1.495859 accuracy 0.96 lr 0.001000\n",
      "Iter  1300 loss 1.604477 accuracy 0.84 lr 0.001000\n",
      "Iter  1400 loss 2.366000 accuracy 0.93 lr 0.001000\n",
      "Iter  1500 loss 1.875258 accuracy 0.89 lr 0.001000\n",
      "Iter  1600 loss 0.750045 accuracy 1.00 lr 0.001000\n",
      "Iter  1700 loss 1.600362 accuracy 0.98 lr 0.001000\n",
      "Iter  1800 loss 1.102890 accuracy 1.00 lr 0.001000\n",
      "Iter  1900 loss 2.254410 accuracy 0.92 lr 0.001000\n",
      "Iter  2000 loss 3.419458 accuracy 0.97 lr 0.001000\n",
      "Iter  2100 loss 4.494370 accuracy 0.96 lr 0.001000\n",
      "Iter  2200 loss 2.590146 accuracy 0.95 lr 0.001000\n",
      "Iter  2300 loss 1.030947 accuracy 1.00 lr 0.001000\n",
      "Iter  2400 loss 2.731728 accuracy 0.97 lr 0.001000\n",
      "Iter  2500 loss 3.377221 accuracy 0.94 lr 0.001000\n",
      "Iter  2600 loss 1.441443 accuracy 0.97 lr 0.001000\n",
      "Iter  2700 loss 1.494323 accuracy 0.96 lr 0.001000\n",
      "Iter  2800 loss 2.628510 accuracy 0.95 lr 0.001000\n",
      "Iter  2900 loss 2.001332 accuracy 0.93 lr 0.001000\n",
      "Iter  3000 loss 1.219592 accuracy 0.97 lr 0.001000\n",
      "Iter  3100 loss 3.762888 accuracy 0.96 lr 0.001000\n",
      "Iter  3200 loss 1.388994 accuracy 0.98 lr 0.001000\n",
      "Iter  3300 loss 2.888128 accuracy 0.94 lr 0.001000\n",
      "Iter  3400 loss 2.770187 accuracy 0.91 lr 0.001000\n",
      "Iter  3500 loss 2.248873 accuracy 0.89 lr 0.001000\n",
      "Iter  3600 loss 1.470534 accuracy 0.94 lr 0.001000\n",
      "Iter  3700 loss 2.276681 accuracy 0.95 lr 0.001000\n",
      "Iter  3800 loss 2.081165 accuracy 0.95 lr 0.001000\n",
      "Iter  3900 loss 1.774095 accuracy 0.96 lr 0.001000\n",
      "Iter  4000 loss 2.651085 accuracy 0.96 lr 0.001000\n",
      "Iter  4100 loss 2.775901 accuracy 0.98 lr 0.001000\n",
      "Iter  4200 loss 1.233332 accuracy 0.93 lr 0.001000\n",
      "Iter  4300 loss 2.470517 accuracy 0.97 lr 0.001000\n",
      "Iter  4400 loss 1.680062 accuracy 0.90 lr 0.001000\n",
      "Iter  4500 loss 1.772520 accuracy 0.94 lr 0.001000\n",
      "Iter  4600 loss 2.125952 accuracy 0.94 lr 0.001000\n",
      "Iter  4700 loss 4.034425 accuracy 0.94 lr 0.001000\n",
      "Iter  4800 loss 2.948757 accuracy 0.96 lr 0.001000\n",
      "Iter  4900 loss 3.399451 accuracy 0.95 lr 0.001000\n",
      "Iter  5000 loss 2.429496 accuracy 0.96 lr 0.001000\n",
      "Epoch 3 loss 2.352663 accuracy 0.95 val_aer 0.76 val_acc 0.96\n",
      "Model saved in file: D:/Roderick/Documents/Master/5 NLP2/project three/project_neuralibm/model.ckpt\n",
      "Shuffling training data\n",
      "Iter   100 loss 1.825665 accuracy 0.97 lr 0.001000\n",
      "Iter   200 loss 1.989846 accuracy 0.93 lr 0.001000\n",
      "Iter   300 loss 2.948145 accuracy 0.94 lr 0.001000\n",
      "Iter   400 loss 2.922696 accuracy 0.93 lr 0.001000\n",
      "Iter   500 loss 2.290404 accuracy 0.97 lr 0.001000\n",
      "Iter   600 loss 1.474250 accuracy 0.90 lr 0.001000\n",
      "Iter   700 loss 1.615662 accuracy 0.97 lr 0.001000\n",
      "Iter   800 loss 1.463690 accuracy 0.95 lr 0.001000\n",
      "Iter   900 loss 3.050625 accuracy 0.93 lr 0.001000\n",
      "Iter  1000 loss 2.121933 accuracy 0.95 lr 0.001000\n",
      "Iter  1100 loss 3.758146 accuracy 0.94 lr 0.001000\n",
      "Iter  1200 loss 1.512255 accuracy 0.95 lr 0.001000\n",
      "Iter  1300 loss 2.459098 accuracy 0.95 lr 0.001000\n",
      "Iter  1400 loss 2.040765 accuracy 0.96 lr 0.001000\n",
      "Iter  1500 loss 3.159779 accuracy 0.91 lr 0.001000\n",
      "Iter  1600 loss 1.988888 accuracy 0.95 lr 0.001000\n",
      "Iter  1700 loss 1.711331 accuracy 0.99 lr 0.001000\n",
      "Iter  1800 loss 1.899729 accuracy 0.94 lr 0.001000\n",
      "Iter  1900 loss 2.219923 accuracy 0.95 lr 0.001000\n",
      "Iter  2000 loss 2.855259 accuracy 0.92 lr 0.001000\n",
      "Iter  2100 loss 1.782430 accuracy 0.97 lr 0.001000\n",
      "Iter  2200 loss 2.237514 accuracy 0.95 lr 0.001000\n",
      "Iter  2300 loss 2.756443 accuracy 0.95 lr 0.001000\n",
      "Iter  2400 loss 1.960630 accuracy 0.95 lr 0.001000\n",
      "Iter  2500 loss 1.649097 accuracy 0.93 lr 0.001000\n",
      "Iter  2600 loss 2.413983 accuracy 0.93 lr 0.001000\n",
      "Iter  2700 loss 1.848325 accuracy 0.97 lr 0.001000\n",
      "Iter  2800 loss 3.353032 accuracy 0.92 lr 0.001000\n",
      "Iter  2900 loss 2.520526 accuracy 0.94 lr 0.001000\n",
      "Iter  3000 loss 3.343935 accuracy 0.94 lr 0.001000\n",
      "Iter  3100 loss 1.341229 accuracy 0.96 lr 0.001000\n",
      "Iter  3200 loss 1.977461 accuracy 0.97 lr 0.001000\n",
      "Iter  3300 loss 2.540549 accuracy 0.95 lr 0.001000\n",
      "Iter  3400 loss 2.016602 accuracy 0.95 lr 0.001000\n",
      "Iter  3500 loss 3.058831 accuracy 0.83 lr 0.001000\n",
      "Iter  3600 loss 2.064559 accuracy 0.97 lr 0.001000\n",
      "Iter  3700 loss 2.296662 accuracy 0.89 lr 0.001000\n",
      "Iter  3800 loss 1.906871 accuracy 0.96 lr 0.001000\n",
      "Iter  3900 loss 1.987636 accuracy 0.97 lr 0.001000\n",
      "Iter  4000 loss 1.099188 accuracy 0.98 lr 0.001000\n",
      "Iter  4100 loss 2.197047 accuracy 0.95 lr 0.001000\n",
      "Iter  4200 loss 3.370184 accuracy 0.95 lr 0.001000\n",
      "Iter  4300 loss 3.886346 accuracy 0.94 lr 0.001000\n",
      "Iter  4400 loss 2.066781 accuracy 0.97 lr 0.001000\n",
      "Iter  4500 loss 2.139174 accuracy 0.95 lr 0.001000\n",
      "Iter  4600 loss 2.243645 accuracy 0.97 lr 0.001000\n",
      "Iter  4700 loss 2.141316 accuracy 0.95 lr 0.001000\n",
      "Iter  4800 loss 3.752561 accuracy 0.92 lr 0.001000\n",
      "Iter  4900 loss 2.584816 accuracy 0.94 lr 0.001000\n",
      "Iter  5000 loss 2.176326 accuracy 0.97 lr 0.001000\n",
      "Epoch 4 loss 2.297422 accuracy 0.95 val_aer 0.82 val_acc 0.96\n",
      "Model saved in file: D:/Roderick/Documents/Master/5 NLP2/project three/project_neuralibm/model.ckpt\n",
      "Shuffling training data\n",
      "Iter   100 loss 2.433359 accuracy 0.94 lr 0.001000\n",
      "Iter   200 loss 2.959614 accuracy 0.95 lr 0.001000\n",
      "Iter   300 loss 3.239019 accuracy 0.97 lr 0.001000\n",
      "Iter   400 loss 3.257496 accuracy 0.91 lr 0.001000\n",
      "Iter   500 loss 1.693399 accuracy 0.96 lr 0.001000\n",
      "Iter   600 loss 2.055521 accuracy 0.98 lr 0.001000\n",
      "Iter   700 loss 2.215768 accuracy 0.97 lr 0.001000\n",
      "Iter   800 loss 1.472546 accuracy 0.98 lr 0.001000\n",
      "Iter   900 loss 3.488784 accuracy 0.95 lr 0.001000\n",
      "Iter  1000 loss 3.157210 accuracy 0.92 lr 0.001000\n",
      "Iter  1100 loss 2.551689 accuracy 0.93 lr 0.001000\n",
      "Iter  1200 loss 4.067712 accuracy 0.91 lr 0.001000\n",
      "Iter  1300 loss 1.589822 accuracy 0.94 lr 0.001000\n",
      "Iter  1400 loss 2.761726 accuracy 0.95 lr 0.001000\n",
      "Iter  1500 loss 2.113991 accuracy 0.91 lr 0.001000\n",
      "Iter  1600 loss 1.848240 accuracy 0.99 lr 0.001000\n",
      "Iter  1700 loss 1.002304 accuracy 1.00 lr 0.001000\n",
      "Iter  1800 loss 3.133877 accuracy 0.94 lr 0.001000\n",
      "Iter  1900 loss 2.078458 accuracy 0.94 lr 0.001000\n",
      "Iter  2000 loss 5.519477 accuracy 0.94 lr 0.001000\n",
      "Iter  2100 loss 4.449041 accuracy 0.95 lr 0.001000\n",
      "Iter  2200 loss 2.604375 accuracy 0.85 lr 0.001000\n",
      "Iter  2300 loss 2.058097 accuracy 0.97 lr 0.001000\n",
      "Iter  2400 loss 1.625815 accuracy 0.93 lr 0.001000\n",
      "Iter  2500 loss 1.837987 accuracy 0.98 lr 0.001000\n",
      "Iter  2600 loss 1.835874 accuracy 0.94 lr 0.001000\n",
      "Iter  2700 loss 3.213966 accuracy 0.93 lr 0.001000\n",
      "Iter  2800 loss 1.923368 accuracy 0.99 lr 0.001000\n",
      "Iter  2900 loss 1.756188 accuracy 0.90 lr 0.001000\n",
      "Iter  3000 loss 2.259444 accuracy 0.96 lr 0.001000\n",
      "Iter  3100 loss 2.186821 accuracy 0.95 lr 0.001000\n",
      "Iter  3200 loss 5.004058 accuracy 0.95 lr 0.001000\n",
      "Iter  3300 loss 1.653277 accuracy 0.98 lr 0.001000\n",
      "Iter  3400 loss 1.170027 accuracy 0.95 lr 0.001000\n",
      "Iter  3500 loss 2.811503 accuracy 0.96 lr 0.001000\n",
      "Iter  3600 loss 1.610353 accuracy 0.97 lr 0.001000\n",
      "Iter  3700 loss 2.148366 accuracy 0.96 lr 0.001000\n",
      "Iter  3800 loss 2.144873 accuracy 0.95 lr 0.001000\n",
      "Iter  3900 loss 2.075191 accuracy 0.96 lr 0.001000\n",
      "Iter  4000 loss 2.466267 accuracy 0.94 lr 0.001000\n",
      "Iter  4100 loss 2.589319 accuracy 0.93 lr 0.001000\n",
      "Iter  4200 loss 2.354680 accuracy 0.97 lr 0.001000\n",
      "Iter  4300 loss 1.749569 accuracy 0.96 lr 0.001000\n",
      "Iter  4400 loss 2.331456 accuracy 0.95 lr 0.001000\n",
      "Iter  4500 loss 3.490387 accuracy 0.96 lr 0.001000\n",
      "Iter  4600 loss 2.074634 accuracy 0.91 lr 0.001000\n",
      "Iter  4700 loss 2.694183 accuracy 0.96 lr 0.001000\n",
      "Iter  4800 loss 3.554486 accuracy 0.97 lr 0.001000\n",
      "Iter  4900 loss 2.741439 accuracy 0.92 lr 0.001000\n",
      "Iter  5000 loss 2.508153 accuracy 0.92 lr 0.001000\n",
      "Epoch 5 loss 2.323986 accuracy 0.95 val_aer 0.83 val_acc 0.96\n",
      "Model saved in file: D:/Roderick/Documents/Master/5 NLP2/project three/project_neuralibm/model.ckpt\n",
      "AER [0.7416104442302638, 0.7326560736302856, 0.7612322177873299, 0.8160697887970615, 0.8295685795685795]\n",
      "Loss [42945.250865399837, 12269.35950088501, 11763.315130233765, 11487.111700177193, 11619.932030111551]\n"
     ]
    },
    {
     "data": {
      "image/png": "[encoded data removed]",
      "text/plain": [
       "<matplotlib.figure.Figure at 0x2084e267518>"
      ]
     },
     "metadata": {},
     "output_type": "display_data"
    },
    {
     "data": {
      "image/png": "[encoded data removed]",
      "text/plain": [
       "<matplotlib.figure.Figure at 0x2084e2f9828>"
      ]
     },
     "metadata": {},
     "output_type": "display_data"
    }
   ],
   "source": [
    "dev_e_path = 'data/test/test.e.gz'\n",
    "dev_f_path = 'data/test/test.f.gz'\n",
    "dev_wa = 'data/test/test.wa.nonullalign'\n",
    "\n",
    "tf.reset_default_graph()\n",
    "\n",
    "with tf.Session() as sess:\n",
    "\n",
    "  # some hyper-parameters\n",
    "  # tweak them as you wish\n",
    "#   batch_size=128  # on CPU, use something much smaller e.g. 1-16\n",
    "  batch_size=4\n",
    "  max_length=30\n",
    "  lr = 0.001\n",
    "  lr_decay = 0.0  # set to 0.0 when using Adam optimizer (default)\n",
    "  emb_dim = 64\n",
    "  mlp_dim = 128\n",
    "  \n",
    "  # our model\n",
    "  model = NeuralIBM1Model(\n",
    "    x_vocabulary=vocabulary_e, y_vocabulary=vocabulary_f, \n",
    "    batch_size=batch_size, emb_dim=emb_dim, mlp_dim=mlp_dim, session=sess)\n",
    "  \n",
    "  # our trainer\n",
    "  trainer = NeuralIBM1Trainer(\n",
    "    model, train_e_path, train_f_path, \n",
    "    dev_e_path, dev_f_path, dev_wa,\n",
    "    num_epochs=5, batch_size=batch_size, \n",
    "    max_length=max_length, lr=lr, lr_decay=lr_decay, session=sess)\n",
    "\n",
    "  # now first TF needs to initialize all the variables\n",
    "  print(\"Initializing variables..\")\n",
    "  sess.run(tf.global_variables_initializer())\n",
    "\n",
    "  # now we can start training!\n",
    "  print(\"Training started..\")\n",
    "  trainer.train()"
   ]
  }
 ],
 "metadata": {
  "kernelspec": {
   "display_name": "Python 3",
   "language": "python",
   "name": "python3"
  },
  "language_info": {
   "codemirror_mode": {
    "name": "ipython",
    "version": 3
   },
   "file_extension": ".py",
   "mimetype": "text/x-python",
   "name": "python",
   "nbconvert_exporter": "python",
   "pygments_lexer": "ipython3",
   "version": "3.6.0"
  }
 },
 "nbformat": 4,
 "nbformat_minor": 1
}
